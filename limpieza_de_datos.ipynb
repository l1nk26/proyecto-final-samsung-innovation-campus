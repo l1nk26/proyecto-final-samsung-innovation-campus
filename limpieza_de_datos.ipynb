{
 "cells": [
  {
   "cell_type": "code",
   "execution_count": 1,
   "metadata": {},
   "outputs": [],
   "source": [
    "import pandas as pd"
   ]
  },
  {
   "cell_type": "code",
   "execution_count": null,
   "metadata": {},
   "outputs": [],
   "source": [
    "data = pd.read_csv(\"./dataset/recipes.csv\")"
   ]
  },
  {
   "cell_type": "code",
   "execution_count": 44,
   "metadata": {},
   "outputs": [
    {
     "data": {
      "text/plain": [
       "RecipeId                           0\n",
       "Name                               0\n",
       "AuthorId                           0\n",
       "AuthorName                         0\n",
       "CookTime                       82545\n",
       "PrepTime                           0\n",
       "TotalTime                          0\n",
       "DatePublished                      0\n",
       "Description                        5\n",
       "Images                             1\n",
       "RecipeCategory                   751\n",
       "Keywords                       17237\n",
       "RecipeIngredientQuantities         3\n",
       "RecipeIngredientParts              0\n",
       "AggregatedRating              253223\n",
       "ReviewCount                   247489\n",
       "Calories                           0\n",
       "FatContent                         0\n",
       "SaturatedFatContent                0\n",
       "CholesterolContent                 0\n",
       "SodiumContent                      0\n",
       "CarbohydrateContent                0\n",
       "FiberContent                       0\n",
       "SugarContent                       0\n",
       "ProteinContent                     0\n",
       "RecipeServings                182911\n",
       "RecipeYield                   348071\n",
       "RecipeInstructions                 0\n",
       "dtype: int64"
      ]
     },
     "execution_count": 44,
     "metadata": {},
     "output_type": "execute_result"
    }
   ],
   "source": [
    "data.isna().sum()"
   ]
  },
  {
   "cell_type": "code",
   "execution_count": 45,
   "metadata": {},
   "outputs": [],
   "source": [
    "data_filtrada = data.drop(columns=[ \"AggregatedRating\", \"ReviewCount\", \"RecipeServings\", \"RecipeYield\", \"CookTime\"])\n",
    "data_filtrada = data_filtrada.dropna()\n",
    "data_filtrada.to_csv('./dataset/recipes_sin_valores_nulos.csv')"
   ]
  },
  {
   "cell_type": "code",
   "execution_count": 48,
   "metadata": {},
   "outputs": [
    {
     "name": "stdout",
     "output_type": "stream",
     "text": [
      "<class 'pandas.core.frame.DataFrame'>\n",
      "Index: 505272 entries, 0 to 522516\n",
      "Data columns (total 23 columns):\n",
      " #   Column                      Non-Null Count   Dtype  \n",
      "---  ------                      --------------   -----  \n",
      " 0   RecipeId                    505272 non-null  int64  \n",
      " 1   Name                        505272 non-null  object \n",
      " 2   AuthorId                    505272 non-null  int64  \n",
      " 3   AuthorName                  505272 non-null  object \n",
      " 4   PrepTime                    505272 non-null  object \n",
      " 5   TotalTime                   505272 non-null  object \n",
      " 6   DatePublished               505272 non-null  object \n",
      " 7   Description                 505272 non-null  object \n",
      " 8   Images                      505272 non-null  object \n",
      " 9   RecipeCategory              505272 non-null  object \n",
      " 10  Keywords                    505272 non-null  object \n",
      " 11  RecipeIngredientQuantities  505272 non-null  object \n",
      " 12  RecipeIngredientParts       505272 non-null  object \n",
      " 13  Calories                    505272 non-null  float64\n",
      " 14  FatContent                  505272 non-null  float64\n",
      " 15  SaturatedFatContent         505272 non-null  float64\n",
      " 16  CholesterolContent          505272 non-null  float64\n",
      " 17  SodiumContent               505272 non-null  float64\n",
      " 18  CarbohydrateContent         505272 non-null  float64\n",
      " 19  FiberContent                505272 non-null  float64\n",
      " 20  SugarContent                505272 non-null  float64\n",
      " 21  ProteinContent              505272 non-null  float64\n",
      " 22  RecipeInstructions          505272 non-null  object \n",
      "dtypes: float64(9), int64(2), object(12)\n",
      "memory usage: 92.5+ MB\n"
     ]
    }
   ],
   "source": [
    "data_filtrada.info()"
   ]
  },
  {
   "cell_type": "code",
   "execution_count": 49,
   "metadata": {},
   "outputs": [],
   "source": [
    "data_entrenamineto = data_filtrada.drop(columns=[\"AuthorId\", \"AuthorName\", \"DatePublished\", \"PrepTime\",\n",
    "                   \"Images\", \"Name\", \"RecipeInstructions\", \"Description\"])"
   ]
  },
  {
   "cell_type": "code",
   "execution_count": 50,
   "metadata": {},
   "outputs": [],
   "source": [
    "data_entrenamineto.to_csv('./dataset/recipes_entrenamiento.csv')"
   ]
  },
  {
   "cell_type": "code",
   "execution_count": 51,
   "metadata": {},
   "outputs": [
    {
     "name": "stdout",
     "output_type": "stream",
     "text": [
      "<class 'pandas.core.frame.DataFrame'>\n",
      "Index: 505272 entries, 0 to 522516\n",
      "Data columns (total 15 columns):\n",
      " #   Column                      Non-Null Count   Dtype  \n",
      "---  ------                      --------------   -----  \n",
      " 0   RecipeId                    505272 non-null  int64  \n",
      " 1   TotalTime                   505272 non-null  object \n",
      " 2   RecipeCategory              505272 non-null  object \n",
      " 3   Keywords                    505272 non-null  object \n",
      " 4   RecipeIngredientQuantities  505272 non-null  object \n",
      " 5   RecipeIngredientParts       505272 non-null  object \n",
      " 6   Calories                    505272 non-null  float64\n",
      " 7   FatContent                  505272 non-null  float64\n",
      " 8   SaturatedFatContent         505272 non-null  float64\n",
      " 9   CholesterolContent          505272 non-null  float64\n",
      " 10  SodiumContent               505272 non-null  float64\n",
      " 11  CarbohydrateContent         505272 non-null  float64\n",
      " 12  FiberContent                505272 non-null  float64\n",
      " 13  SugarContent                505272 non-null  float64\n",
      " 14  ProteinContent              505272 non-null  float64\n",
      "dtypes: float64(9), int64(1), object(5)\n",
      "memory usage: 61.7+ MB\n"
     ]
    }
   ],
   "source": [
    "data_entrenamineto.info()"
   ]
  },
  {
   "cell_type": "code",
   "execution_count": 2,
   "metadata": {},
   "outputs": [],
   "source": [
    "data_entrenamineto = pd.read_csv(\"./dataset/recipes_entrenamiento.csv\")"
   ]
  },
  {
   "cell_type": "code",
   "execution_count": null,
   "metadata": {},
   "outputs": [
    {
     "name": "stdout",
     "output_type": "stream",
     "text": [
      "hola\n"
     ]
    }
   ],
   "source": [
    "ingredientes = data_entrenamineto[\"RecipeIngredientParts\"]\n",
    "\n",
    "ingredientes = map(lambda x : x.replace(\"0(\", \"\").replace(\")\", \"\"), ingredientes)\n",
    "ingredientes = ''.join(ingredientes).split(',')"
   ]
  },
  {
   "cell_type": "code",
   "execution_count": 11,
   "metadata": {},
   "outputs": [],
   "source": [
    "ingredientes = map(lambda x : x.lower(), ingredientes)\n",
    "ingredientes = set(ingredientes)\n"
   ]
  },
  {
   "cell_type": "code",
   "execution_count": 14,
   "metadata": {},
   "outputs": [],
   "source": [
    "keys = data_entrenamineto.head(20)[\"Keywords\"]\n",
    "\n",
    "keys = data_entrenamineto[\"RecipeIngredientParts\"]\n",
    "\n",
    "keys = map(lambda x : x.replace(\"0(\", \"\").replace(\")\", \"\"), keys)\n",
    "keys = ''.join(keys).split(',')\n"
   ]
  },
  {
   "cell_type": "code",
   "execution_count": 13,
   "metadata": {},
   "outputs": [
    {
     "data": {
      "text/plain": [
       "0     c(\"blueberries\", \"granulated sugar\", \"vanilla ...\n",
       "1     c(\"saffron\", \"milk\", \"hot green chili peppers\"...\n",
       "2     c(\"sugar\", \"lemons, rind of\", \"lemon, zest of\"...\n",
       "3     c(\"extra firm tofu\", \"eggplant\", \"zucchini\", \"...\n",
       "4     c(\"plain tomato juice\", \"cabbage\", \"onion\", \"c...\n",
       "5     c(\"graham cracker crumbs\", \"sugar\", \"butter\", ...\n",
       "6     c(\"chicken\", \"butter\", \"flour\", \"milk\", \"celer...\n",
       "7     c(\"sugar\", \"margarine\", \"egg\", \"flour\", \"salt\"...\n",
       "8                             c(\"rice vinegar\", \"haeo\")\n",
       "9     c(\"butter\", \"brown sugar\", \"granulated sugar\",...\n",
       "10    c(\"margarine\", \"cake flour\", \"baking powder\", ...\n",
       "11    c(\"fresh mushrooms\", \"butter\", \"boneless skinl...\n",
       "12    c(\"flour\", \"sugar\", \"baking powder\", \"salt\", \"...\n",
       "13    c(\"water\", \"black tea\", \"cinnamon stick\", \"mil...\n",
       "14    c(\"instant coffee\", \"sugar\", \"nonfat dry milk ...\n",
       "15    c(\"all-purpose flour\", \"sugar\", \"baking powder...\n",
       "16    c(\"carrots\", \"eggs\", \"white sugar\", \"all-purpo...\n",
       "17    c(\"avocados\", \"tomatoes\", \"salt\", \"garlic\", \"l...\n",
       "18    c(\"butter\", \"margarine\", \"sugar\", \"flour\", \"eg...\n",
       "19    c(\"black beans\", \"tomatoes\", \"roma tomatoes\", ...\n",
       "Name: RecipeIngredientParts, dtype: object"
      ]
     },
     "execution_count": 13,
     "metadata": {},
     "output_type": "execute_result"
    }
   ],
   "source": [
    "data_entrenamineto.head(20)[\"RecipeIngredientParts\"]"
   ]
  }
 ],
 "metadata": {
  "kernelspec": {
   "display_name": "Python 3",
   "language": "python",
   "name": "python3"
  },
  "language_info": {
   "codemirror_mode": {
    "name": "ipython",
    "version": 3
   },
   "file_extension": ".py",
   "mimetype": "text/x-python",
   "name": "python",
   "nbconvert_exporter": "python",
   "pygments_lexer": "ipython3",
   "version": "3.11.5"
  }
 },
 "nbformat": 4,
 "nbformat_minor": 2
}
