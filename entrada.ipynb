{
 "cells": [
  {
   "cell_type": "markdown",
   "metadata": {},
   "source": [
    "### Quizás este archivo sea eliminado en el futuro :\"inserte emoji del fantasma de whatsapp\""
   ]
  },
  {
   "cell_type": "code",
   "execution_count": 1,
   "metadata": {},
   "outputs": [],
   "source": [
    "# Muy ligera    1.2\n",
    "# Ligera        1.375\n",
    "# Moderada      1.55\n",
    "# Activa        1.725\n",
    "# Muy Activa    1.9\n",
    "# Factor de actividad fisica mifflin\n",
    "def factorDeActividad(factor):\n",
    "    factores = {\n",
    "        1: 1.2,\n",
    "        2: 1.375,\n",
    "        3: 1.55,\n",
    "        4: 1.725\n",
    "    }\n",
    "    return factores.get(factor, 1.9)\n",
    "\n",
    "# Requiere: peso   = float (kg)\n",
    "#           altura = int (cm)\n",
    "#           edad   = int\n",
    "#           sexo   = char ('m' or 'f')\n",
    "#           factor = {1-5} 1 muy poca, 5 mucha\n",
    "# BMR mifflin\n",
    "def necesidadCaloricaReposo(peso, altura, edad, sexo, actividad):\n",
    "    factor = factorDeActividad(actividad)\n",
    "    if sexo != 'f':\n",
    "        return (10 * peso + 6.25 * altura - 5 * edad + 5) * factor\n",
    "    else:\n",
    "        return (10 * peso + 6.25 * altura - 5 * edad - 161) * factor\n",
    "\n",
    "\n",
    "# a ver este lo dice deepseek aunque no paso base cientifica,\n",
    "# de no querer usarlo, llamar a necesidadCaloricaReposo()\n",
    "# Pérdida: Resta 500 kcal/día (aprox. -0.5 kg/semana).\n",
    "# Mantenimiento: Usa el valor calculado.\n",
    "# Ganancia: Añade 500 kcal/día.\n",
    "\n",
    "# perdida = 2 normal\n",
    "# perdida = 1 ganancia\n",
    "# perdida = 0 bajar peso \n",
    "def objetivo(peso, altura, edad, sexo, actividad, perdida = 2):\n",
    "    mifflin = necesidadCaloricaReposo(peso, altura, edad, sexo, actividad)\n",
    "    objetivos = {\n",
    "        0: -500,\n",
    "        1: 500,\n",
    "    }\n",
    "    return objetivos.get(perdida, 0) + mifflin"
   ]
  },
  {
   "cell_type": "code",
   "execution_count": 3,
   "metadata": {},
   "outputs": [
    {
     "name": "stdout",
     "output_type": "stream",
     "text": [
      "calorías necesarias: 2810.0\n"
     ]
    }
   ],
   "source": [
    "# esperemos que luego andres quiera hacer una interfaz grafica para asi que quede más presentable tanto la entrada como la salida\n",
    "# será que le pedimos su nombre? XD\n",
    "\n",
    "while True:\n",
    "    try:\n",
    "        edad = int(input(\"Su edad: \"))\n",
    "        peso = float(input(\"Su peso (kg): \"))\n",
    "        altura = int(input(\"Su altura (cm): \"))\n",
    "        sexo = str(input(\"Sexo (m,f o \\\"no se, nunca he tenido\\\"): \"))\n",
    "        if sexo not in ['m', 'f', 'no se, nunca he tenido']:\n",
    "            print(\"Por favor, ingrese 'm', 'f' o 'no se, nunca he tenido'.\")\n",
    "            continue\n",
    "        actividad = int(input(\"Su actividad física en un intervalo {1-5}\\n\"\n",
    "                           \"1) Muy ligera\\n\"\n",
    "                           \"2) ligera\\n\"\n",
    "                           \"3) moderada\\n\"\n",
    "                           \"4) activ@\\n\"\n",
    "                           \"5) Muy activ@\\n\"))\n",
    "        if actividad not in [1, 2, 3, 4, 5]:\n",
    "            print(\"Por favor, ingrese un número entre 1 y 5.\")\n",
    "            continue\n",
    "        obj = int(input(\"mantener, ganar o perder peso? (0/1/2): \"))\n",
    "        if obj not in [0, 1, 2]:\n",
    "            print(\"Por favor, ingrese 0, 1 o 2.\")\n",
    "            continue\n",
    "        calorias = objetivo(peso, altura, edad, sexo, actividad, obj)\n",
    "        break \n",
    "    except ValueError:\n",
    "        print(\"Error: Ingrese valores válidos.\")\n",
    "    except Exception as e:\n",
    "        print(f\"Error inesperado: {e}\")\n",
    "        continue\n",
    "print(f\"calorías necesarias: {calorias}\")"
   ]
  },
  {
   "cell_type": "code",
   "execution_count": null,
   "metadata": {},
   "outputs": [],
   "source": []
  }
 ],
 "metadata": {
  "kernelspec": {
   "display_name": "base",
   "language": "python",
   "name": "python3"
  },
  "language_info": {
   "codemirror_mode": {
    "name": "ipython",
    "version": 3
   },
   "file_extension": ".py",
   "mimetype": "text/x-python",
   "name": "python",
   "nbconvert_exporter": "python",
   "pygments_lexer": "ipython3",
   "version": "3.12.3"
  }
 },
 "nbformat": 4,
 "nbformat_minor": 2
}
